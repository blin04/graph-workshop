{
  "nbformat": 4,
  "nbformat_minor": 0,
  "metadata": {
    "colab": {
      "provenance": [],
      "authorship_tag": "ABX9TyMNW2Tm83R85p8WZ7XGKH7r"
    },
    "kernelspec": {
      "name": "python3",
      "display_name": "Python 3"
    },
    "language_info": {
      "name": "python"
    }
  },
  "cells": [
    {
      "cell_type": "markdown",
      "source": [
        "# Zadatak 2.\n",
        "\n",
        "Napisati program koji pronalazi najkraći put između dva izabrana čvora u grafu i ispisuje ga. Graf je u fajlu sačuvan tako što se u prvoj liniji nalaze dva broja: broj čvorova i broj ivica. Nakon toga sledi linija koje sadrže po dva broja: $u$ i $v$ koji predstavljaju čvorove grane."
      ],
      "metadata": {
        "id": "kmgm7uBNd1W0"
      }
    },
    {
      "cell_type": "code",
      "execution_count": 10,
      "metadata": {
        "id": "HTAK6hgLddQ4",
        "colab": {
          "base_uri": "https://localhost:8080/"
        },
        "outputId": "51ca463d-e78e-46d4-b1ec-26534e643e07"
      },
      "outputs": [
        {
          "output_type": "stream",
          "name": "stdout",
          "text": [
            "[2, 1, 11, 15, 5]\n"
          ]
        }
      ],
      "source": [
        "def createAdjacencyList():\n",
        "  with open(\"graph\", \"r\") as f:\n",
        "    line = f.readline()\n",
        "    line = line.strip('\\n')\n",
        "    data = line.split(' ')\n",
        "    n = int(data[0])\n",
        "    m = int(data[1])\n",
        "\n",
        "    adjList = {}\n",
        "    for i in range(1, n + 1):\n",
        "      adjList[i] = []\n",
        "\n",
        "    for line in f:\n",
        "      line = line.strip('\\n')\n",
        "      data = line.split(' ')\n",
        "      u = int(data[0])\n",
        "      v = int(data[1])\n",
        "\n",
        "      adjList[u].append(v)\n",
        "      adjList[v].append(u)\n",
        "\n",
        "    return adjList\n",
        "\n",
        "\n",
        "def BFS(adjList, start, end):\n",
        "  queue = [start]\n",
        "  visited = [False] * (len(adjList) + 1)\n",
        "  parent = [None] * (len(adjList) + 1)\n",
        "\n",
        "  while len(queue) > 0:\n",
        "     current = queue.pop()\n",
        "\n",
        "     if current == end:\n",
        "      break\n",
        "\n",
        "     visited[current] = True\n",
        "\n",
        "     for neighbour in adjList[current]:\n",
        "        if not visited[neighbour]:\n",
        "          visited[neighbour] = True\n",
        "          parent[neighbour] = current\n",
        "          queue.append(neighbour)\n",
        "\n",
        "  it = end\n",
        "  path = []\n",
        "  while parent[it] != None:\n",
        "    path.append(it)\n",
        "    it = parent[it]\n",
        "\n",
        "  path.append(it)\n",
        "  path = path[::-1]\n",
        "\n",
        "  return path\n",
        "\n",
        "def DFS(adjList, visited, node):\n",
        "  if visited[node]:\n",
        "    return\n",
        "\n",
        "  visited[node] = True\n",
        "  for neighbour in adjList[node]:\n",
        "    DFS(neighbour)\n",
        "\n",
        "\n",
        "if __name__ == \"__main__\":\n",
        "  adjList = createAdjacencyList()\n",
        "\n",
        "  path = BFS(adjList, 2, 5)\n",
        "  print(path)\n",
        "\n",
        "\n"
      ]
    },
    {
      "cell_type": "code",
      "source": [],
      "metadata": {
        "id": "z3nVAZC9U5lF"
      },
      "execution_count": null,
      "outputs": []
    }
  ]
}