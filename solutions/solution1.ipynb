{
  "nbformat": 4,
  "nbformat_minor": 0,
  "metadata": {
    "colab": {
      "provenance": [],
      "authorship_tag": "ABX9TyMMjD+bo5jOFOFCNhvLHVyC"
    },
    "kernelspec": {
      "name": "python3",
      "display_name": "Python 3"
    },
    "language_info": {
      "name": "python"
    }
  },
  "cells": [
    {
      "cell_type": "markdown",
      "source": [
        "# Zadatak 1.\n",
        "\n",
        "Napisati program koji učitava težinski neusmereni graf iz tekstualnog fajla, konstruiše matricu susedstva, listu susedstva i listu ivica za taj graf i ispisuje ih. Graf je u fajlu sačuvan tako što se u prvoj liniji nalaze dva broja: broj čvorova $n$ i broj ivica $m$. Nakon toga sledi $m$ linija koje sadrže tri broja: $u$, $v$ i $w$ koji predstavljaju čvorove grane i njenu težinu respektivno."
      ],
      "metadata": {
        "id": "aqQbVHMS9mmD"
      }
    },
    {
      "cell_type": "code",
      "source": [
        "def createAdjacencyMatrix():\n",
        "\n",
        "  with open(\"graphWeighted\", \"r\") as f:\n",
        "    line = f.readline()\n",
        "    line = line.strip('\\n')\n",
        "    data = line.split(' ')\n",
        "    n = int(data[0])\n",
        "    m = int(data[1])\n",
        "\n",
        "    matrix = [[0] * (n + 1) for _ in range(n + 1)]\n",
        "\n",
        "    for line in f:\n",
        "      line = line.strip('\\n')\n",
        "      data = line.split(' ')\n",
        "      u = int(data[0])\n",
        "      v = int(data[1])\n",
        "      w = int(data[2])\n",
        "\n",
        "      matrix[u][v] = w\n",
        "      matrix[v][u] = w\n",
        "\n",
        "  for row in matrix:\n",
        "    print(row)\n",
        "\n",
        "\n",
        "def createAdjacencyList():\n",
        "  with open(\"graphWeighted\", \"r\") as f:\n",
        "    line = f.readline()\n",
        "    line = line.strip('\\n')\n",
        "    data = line.split(' ')\n",
        "    n = int(data[0])\n",
        "    m = int(data[1])\n",
        "\n",
        "    adjList = {}\n",
        "    for i in range(1, n + 1):\n",
        "      adjList[i] = []\n",
        "\n",
        "    for line in f:\n",
        "      line = line.strip('\\n')\n",
        "      data = line.split(' ')\n",
        "      u = int(data[0])\n",
        "      v = int(data[1])\n",
        "      w = int(data[2])\n",
        "\n",
        "      adjList[u].append((v, w))\n",
        "      adjList[v].append((u, w))\n",
        "\n",
        "    for node in adjList:\n",
        "      print(node, \":\", adjList[node])\n",
        "\n",
        "\n",
        "def createEdgeList():\n",
        "  with open(\"graphWeighted\", \"r\") as f:\n",
        "    line = f.readline()\n",
        "    line = line.strip('\\n')\n",
        "    data = line.split(' ')\n",
        "    n = int(data[0])\n",
        "    m = int(data[1])\n",
        "\n",
        "    edges = []\n",
        "    for line in f:\n",
        "      line = line.strip('\\n')\n",
        "      data = line.split(' ')\n",
        "      u = int(data[0])\n",
        "      v = int(data[1])\n",
        "      w = int(data[2])\n",
        "\n",
        "      edges.append((u, v, w))\n",
        "      edges.append((v, u, w))\n",
        "\n",
        "    print(edges)\n",
        "\n",
        "\n",
        "if __name__ == \"__main__\":\n",
        "  createEdgeList()"
      ],
      "metadata": {
        "id": "BE_KZZ6pY7a-",
        "colab": {
          "base_uri": "https://localhost:8080/"
        },
        "outputId": "8c2ef368-4832-4fc9-8389-0b13cbf6b771"
      },
      "execution_count": 8,
      "outputs": [
        {
          "output_type": "stream",
          "name": "stdout",
          "text": [
            "[(1, 2, 95), (2, 1, 95), (1, 10, 75), (10, 1, 75), (1, 11, 22), (11, 1, 22), (1, 12, 149), (12, 1, 149), (2, 6, 104), (6, 2, 104), (2, 10, 54), (10, 2, 54), (2, 13, 70), (13, 2, 70), (3, 7, 44), (7, 3, 44), (3, 8, 72), (8, 3, 72), (3, 16, 98), (16, 3, 98), (4, 7, 250), (7, 4, 250), (4, 14, 189), (14, 4, 189), (5, 15, 93), (15, 5, 93), (5, 9, 53), (9, 5, 53), (6, 10, 143), (10, 6, 143), (8, 9, 60), (9, 8, 60), (8, 15, 150), (15, 8, 150), (8, 16, 124), (16, 8, 124), (9, 12, 37), (12, 9, 37), (9, 14, 103), (14, 9, 103), (10, 11, 77), (11, 10, 77), (11, 15, 43), (15, 11, 43), (12, 13, 140), (13, 12, 140), (12, 14, 128), (14, 12, 128)]\n"
          ]
        }
      ]
    },
    {
      "cell_type": "code",
      "source": [],
      "metadata": {
        "id": "4AiFbCw8zmxc"
      },
      "execution_count": null,
      "outputs": []
    }
  ]
}