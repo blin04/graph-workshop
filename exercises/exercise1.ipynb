{
  "nbformat": 4,
  "nbformat_minor": 0,
  "metadata": {
    "colab": {
      "provenance": [],
      "authorship_tag": "ABX9TyP4uKNR+XWH1YkNdQTcLUQ7"
    },
    "kernelspec": {
      "name": "python3",
      "display_name": "Python 3"
    },
    "language_info": {
      "name": "python"
    }
  },
  "cells": [
    {
      "cell_type": "markdown",
      "source": [
        "# Zadatak 1.\n",
        "\n",
        "Napisati program koji učitava težinski neusmereni graf iz tekstualnog fajla, konstruiše matricu susedstva, listu susedstva i listu ivica za taj graf i ispisuje ih. Graf je u fajlu sačuvan tako što se u prvoj liniji nalaze dva broja: broj čvorova $n$ i broj ivica $m$. Nakon toga sledi $m$ linija koje sadrže tri broja: $u$, $v$ i $w$ koji predstavljaju čvorove grane i njenu težinu respektivno."
      ],
      "metadata": {
        "id": "aqQbVHMS9mmD"
      }
    },
    {
      "cell_type": "code",
      "source": [
        "def createAdjacencyMatrix():\n",
        "  pass\n",
        "\n",
        "def createAdjacencyList():\n",
        "  pass\n",
        "\n",
        "def createEdgeList():\n",
        "  pass\n",
        "\n",
        "\n",
        "if __name__ == \"__main__\":\n",
        "  pass"
      ],
      "metadata": {
        "id": "BE_KZZ6pY7a-"
      },
      "execution_count": 2,
      "outputs": []
    }
  ]
}