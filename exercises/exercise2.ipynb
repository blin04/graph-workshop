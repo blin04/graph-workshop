{
  "nbformat": 4,
  "nbformat_minor": 0,
  "metadata": {
    "colab": {
      "provenance": [],
      "authorship_tag": "ABX9TyOA1C8lecIyO8splHXqjzso",
      "include_colab_link": true
    },
    "kernelspec": {
      "name": "python3",
      "display_name": "Python 3"
    },
    "language_info": {
      "name": "python"
    }
  },
  "cells": [
    {
      "cell_type": "markdown",
      "metadata": {
        "id": "view-in-github",
        "colab_type": "text"
      },
      "source": [
        "<a href=\"https://colab.research.google.com/github/blin04/graph-workshop/blob/master/exercises/exercise2.ipynb\" target=\"_parent\"><img src=\"https://colab.research.google.com/assets/colab-badge.svg\" alt=\"Open In Colab\"/></a>"
      ]
    },
    {
      "cell_type": "markdown",
      "source": [
        "# Zadatak 2.\n",
        "\n",
        "Napisati program koji pronalazi najkraći put između dva izabrana čvora u grafu i ispisuje ga. Graf je u fajlu sačuvan tako što se u prvoj liniji nalaze dva broja: broj čvorova i broj ivica. Nakon toga sledi linija koje sadrže po dva broja: $u$ i $v$ koji predstavljaju čvorove grane."
      ],
      "metadata": {
        "id": "kmgm7uBNd1W0"
      }
    },
    {
      "cell_type": "code",
      "execution_count": null,
      "metadata": {
        "id": "HTAK6hgLddQ4"
      },
      "outputs": [],
      "source": []
    }
  ]
}