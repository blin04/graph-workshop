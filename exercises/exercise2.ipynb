{
  "nbformat": 4,
  "nbformat_minor": 0,
  "metadata": {
    "colab": {
      "provenance": [],
      "authorship_tag": "ABX9TyNINwYbZbwIFWC8qqNgOsBL"
    },
    "kernelspec": {
      "name": "python3",
      "display_name": "Python 3"
    },
    "language_info": {
      "name": "python"
    }
  },
  "cells": [
    {
      "cell_type": "markdown",
      "source": [
        "# Zadatak 2.\n",
        "\n",
        "U tekstualnom fajlu je dat graf gradova Srbije. Napisati program koji pronalazi najkraći put između dva izabrana grada i ispisuje ga.\n",
        "U tekstualnom fajlu `edges` se nalaze ivice grafa, dok u tekstualnom fajlu `nodes` piše koji grad je predstavljen kojim čvorom u grafu."
      ],
      "metadata": {
        "id": "kmgm7uBNd1W0"
      }
    },
    {
      "cell_type": "code",
      "execution_count": null,
      "metadata": {
        "id": "HTAK6hgLddQ4"
      },
      "outputs": [],
      "source": []
    }
  ]
}