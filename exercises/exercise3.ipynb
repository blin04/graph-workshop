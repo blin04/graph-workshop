{
  "nbformat": 4,
  "nbformat_minor": 0,
  "metadata": {
    "colab": {
      "provenance": [],
      "authorship_tag": "ABX9TyPy8FkQu8U/3pHq+hhyIL1j"
    },
    "kernelspec": {
      "name": "python3",
      "display_name": "Python 3"
    },
    "language_info": {
      "name": "python"
    }
  },
  "cells": [
    {
      "cell_type": "markdown",
      "source": [
        "# Zadatak 3.\n",
        "\n",
        "U tekstualnom fajlu je dat graf gradova Srbije. Napisati program koji računa najkraći put između dva izabrana grada.\n",
        "U tekstualnom fajlu `edges` se nalaze ivice grafa sa njihovim težinama, dok u tekstualnom fajlu `nodes` piše koji grad je predstavljen kojim čvorom u grafu."
      ],
      "metadata": {
        "id": "ivL3gqWZgZwL"
      }
    },
    {
      "cell_type": "code",
      "execution_count": null,
      "metadata": {
        "id": "iSS5SQxTfrBQ"
      },
      "outputs": [],
      "source": []
    }
  ]
}