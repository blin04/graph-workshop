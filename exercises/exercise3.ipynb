{
  "nbformat": 4,
  "nbformat_minor": 0,
  "metadata": {
    "colab": {
      "provenance": [],
      "authorship_tag": "ABX9TyMbWnrn91H3O9NtXSbqD260",
      "include_colab_link": true
    },
    "kernelspec": {
      "name": "python3",
      "display_name": "Python 3"
    },
    "language_info": {
      "name": "python"
    }
  },
  "cells": [
    {
      "cell_type": "markdown",
      "metadata": {
        "id": "view-in-github",
        "colab_type": "text"
      },
      "source": [
        "<a href=\"https://colab.research.google.com/github/blin04/graph-workshop/blob/master/exercises/exercise3.ipynb\" target=\"_parent\"><img src=\"https://colab.research.google.com/assets/colab-badge.svg\" alt=\"Open In Colab\"/></a>"
      ]
    },
    {
      "cell_type": "markdown",
      "source": [
        "# Zadatak 3.\n",
        "\n",
        "U tekstualnom fajlu je dat **težinski** graf gradova Srbije. Napisati program koji pronalazi najkraći put između dva izabrana grada i ispisuje ga.\n",
        "U tekstualnom fajlu `edges` se nalaze ivice grafa sa njihovim težinama, dok u tekstualnom fajlu `nodes` piše koji grad je predstavljen kojim čvorom u grafu."
      ],
      "metadata": {
        "id": "ivL3gqWZgZwL"
      }
    },
    {
      "cell_type": "code",
      "execution_count": null,
      "metadata": {
        "id": "iSS5SQxTfrBQ"
      },
      "outputs": [],
      "source": []
    }
  ]
}