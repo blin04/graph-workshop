{
  "cells": [
    {
      "cell_type": "markdown",
      "metadata": {
        "colab_type": "text",
        "id": "view-in-github"
      },
      "source": [
        "<a href=\"https://colab.research.google.com/github/blin04/graph-workshop/blob/master/exercises/exercise3.ipynb\" target=\"_parent\"><img src=\"https://colab.research.google.com/assets/colab-badge.svg\" alt=\"Open In Colab\"/></a>"
      ]
    },
    {
      "cell_type": "markdown",
      "metadata": {
        "id": "ivL3gqWZgZwL"
      },
      "source": [
        "# Zadatak 3.\n",
        "\n",
        "U tekstualnom fajlu je dat **težinski** graf gradova Srbije. Napisati program koji pronalazi najkraći put između dva izabrana grada i ispisuje ga.\n",
        "U tekstualnom fajlu `nodes` se nalaze labele čvorova."
      ]
    },
    {
      "cell_type": "code",
      "execution_count": null,
      "metadata": {
        "id": "iSS5SQxTfrBQ"
      },
      "outputs": [],
      "source": []
    }
  ],
  "metadata": {
    "colab": {
      "authorship_tag": "ABX9TyMbWnrn91H3O9NtXSbqD260",
      "include_colab_link": true,
      "provenance": []
    },
    "kernelspec": {
      "display_name": "Python 3",
      "name": "python3"
    },
    "language_info": {
      "name": "python"
    }
  },
  "nbformat": 4,
  "nbformat_minor": 0
}
